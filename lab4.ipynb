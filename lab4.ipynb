{
 "cells": [
  {
   "cell_type": "markdown",
   "id": "874c804a",
   "metadata": {},
   "source": [
    "## connect to database"
   ]
  },
  {
   "cell_type": "code",
   "execution_count": 1,
   "id": "5590dbcc",
   "metadata": {},
   "outputs": [],
   "source": [
    "import pandas\n",
    "import configparser\n",
    "import psycopg2"
   ]
  },
  {
   "cell_type": "code",
   "execution_count": 2,
   "id": "250734fe",
   "metadata": {},
   "outputs": [],
   "source": [
    "config = configparser.ConfigParser()\n",
    "config.read('config.ini')\n",
    "\n",
    "host = config['myaws']['host']\n",
    "db = config['myaws']['db']\n",
    "user = config['myaws']['user']\n",
    "pwd = config['myaws']['pwd']"
   ]
  },
  {
   "cell_type": "code",
   "execution_count": 3,
   "id": "6325a71b",
   "metadata": {},
   "outputs": [],
   "source": [
    "connection = psycopg2.connect(\n",
    "                        host = host,\n",
    "                        user = user,\n",
    "                        password = pwd,\n",
    "                        database = db\n",
    ")"
   ]
  },
  {
   "cell_type": "markdown",
   "id": "66917499",
   "metadata": {},
   "source": [
    "# q1"
   ]
  },
  {
   "cell_type": "code",
   "execution_count": 4,
   "id": "7b25a5d0",
   "metadata": {},
   "outputs": [],
   "source": [
    "sql = 'select * from student'"
   ]
  },
  {
   "cell_type": "code",
   "execution_count": 5,
   "id": "b62356c1",
   "metadata": {},
   "outputs": [
    {
     "name": "stderr",
     "output_type": "stream",
     "text": [
      "/tmp/ipykernel_8016/2250568094.py:1: UserWarning: pandas only supports SQLAlchemy connectable (engine/connection) or database string URI or sqlite3 DBAPI2 connection. Other DBAPI2 objects are not tested. Please consider using SQLAlchemy.\n",
      "  df = pandas.read_sql(sql, connection)\n"
     ]
    },
    {
     "data": {
      "text/html": [
       "<div>\n",
       "<style scoped>\n",
       "    .dataframe tbody tr th:only-of-type {\n",
       "        vertical-align: middle;\n",
       "    }\n",
       "\n",
       "    .dataframe tbody tr th {\n",
       "        vertical-align: top;\n",
       "    }\n",
       "\n",
       "    .dataframe thead th {\n",
       "        text-align: right;\n",
       "    }\n",
       "</style>\n",
       "<table border=\"1\" class=\"dataframe\">\n",
       "  <thead>\n",
       "    <tr style=\"text-align: right;\">\n",
       "      <th></th>\n",
       "      <th>s_email</th>\n",
       "      <th>s_name</th>\n",
       "      <th>major</th>\n",
       "    </tr>\n",
       "  </thead>\n",
       "  <tbody>\n",
       "    <tr>\n",
       "      <th>0</th>\n",
       "      <td>s1@jmu.edu</td>\n",
       "      <td>s1</td>\n",
       "      <td>IA</td>\n",
       "    </tr>\n",
       "    <tr>\n",
       "      <th>1</th>\n",
       "      <td>s2@jmu.edu</td>\n",
       "      <td>s2</td>\n",
       "      <td>IA</td>\n",
       "    </tr>\n",
       "    <tr>\n",
       "      <th>2</th>\n",
       "      <td>s3@jmu.edu</td>\n",
       "      <td>s3</td>\n",
       "      <td>ISAT</td>\n",
       "    </tr>\n",
       "    <tr>\n",
       "      <th>3</th>\n",
       "      <td>s4@jmu.edu</td>\n",
       "      <td>s4</td>\n",
       "      <td>ISAT</td>\n",
       "    </tr>\n",
       "    <tr>\n",
       "      <th>4</th>\n",
       "      <td>s5@jmu.edu</td>\n",
       "      <td>s5</td>\n",
       "      <td>IA</td>\n",
       "    </tr>\n",
       "  </tbody>\n",
       "</table>\n",
       "</div>"
      ],
      "text/plain": [
       "      s_email s_name major\n",
       "0  s1@jmu.edu     s1    IA\n",
       "1  s2@jmu.edu     s2    IA\n",
       "2  s3@jmu.edu     s3  ISAT\n",
       "3  s4@jmu.edu     s4  ISAT\n",
       "4  s5@jmu.edu     s5    IA"
      ]
     },
     "execution_count": 5,
     "metadata": {},
     "output_type": "execute_result"
    }
   ],
   "source": [
    "df = pandas.read_sql(sql, connection)\n",
    "df[:]"
   ]
  },
  {
   "cell_type": "markdown",
   "id": "36845253",
   "metadata": {},
   "source": [
    "# q2"
   ]
  },
  {
   "cell_type": "code",
   "execution_count": 8,
   "id": "979165cb",
   "metadata": {},
   "outputs": [],
   "source": [
    "sql = \"\"\"select professor.p_name , course.c_name from professor\n",
    "            inner join course on professor.p_email = course.p_email\"\"\""
   ]
  },
  {
   "cell_type": "code",
   "execution_count": 9,
   "id": "d0c2fdee",
   "metadata": {},
   "outputs": [
    {
     "name": "stderr",
     "output_type": "stream",
     "text": [
      "/tmp/ipykernel_8016/2250568094.py:1: UserWarning: pandas only supports SQLAlchemy connectable (engine/connection) or database string URI or sqlite3 DBAPI2 connection. Other DBAPI2 objects are not tested. Please consider using SQLAlchemy.\n",
      "  df = pandas.read_sql(sql, connection)\n"
     ]
    },
    {
     "data": {
      "text/html": [
       "<div>\n",
       "<style scoped>\n",
       "    .dataframe tbody tr th:only-of-type {\n",
       "        vertical-align: middle;\n",
       "    }\n",
       "\n",
       "    .dataframe tbody tr th {\n",
       "        vertical-align: top;\n",
       "    }\n",
       "\n",
       "    .dataframe thead th {\n",
       "        text-align: right;\n",
       "    }\n",
       "</style>\n",
       "<table border=\"1\" class=\"dataframe\">\n",
       "  <thead>\n",
       "    <tr style=\"text-align: right;\">\n",
       "      <th></th>\n",
       "      <th>p_name</th>\n",
       "      <th>c_name</th>\n",
       "    </tr>\n",
       "  </thead>\n",
       "  <tbody>\n",
       "    <tr>\n",
       "      <th>0</th>\n",
       "      <td>p2</td>\n",
       "      <td>mongodb</td>\n",
       "    </tr>\n",
       "    <tr>\n",
       "      <th>1</th>\n",
       "      <td>p3</td>\n",
       "      <td>facebook</td>\n",
       "    </tr>\n",
       "    <tr>\n",
       "      <th>2</th>\n",
       "      <td>p3</td>\n",
       "      <td>postgresql</td>\n",
       "    </tr>\n",
       "    <tr>\n",
       "      <th>3</th>\n",
       "      <td>p3</td>\n",
       "      <td>twitter</td>\n",
       "    </tr>\n",
       "  </tbody>\n",
       "</table>\n",
       "</div>"
      ],
      "text/plain": [
       "  p_name      c_name\n",
       "0     p2     mongodb\n",
       "1     p3    facebook\n",
       "2     p3  postgresql\n",
       "3     p3     twitter"
      ]
     },
     "execution_count": 9,
     "metadata": {},
     "output_type": "execute_result"
    }
   ],
   "source": [
    "df = pandas.read_sql(sql, connection)\n",
    "df[:]"
   ]
  },
  {
   "cell_type": "markdown",
   "id": "9815b99f",
   "metadata": {},
   "source": [
    "## q3"
   ]
  },
  {
   "cell_type": "code",
   "execution_count": 11,
   "id": "f6fc3357",
   "metadata": {},
   "outputs": [],
   "source": [
    "sql = \"\"\"select c_number, count(*) as num_stu from enroll\n",
    "            group by c_number\n",
    "            order by num_stu desc\n",
    "            \"\"\""
   ]
  },
  {
   "cell_type": "code",
   "execution_count": 14,
   "id": "eeb477d6",
   "metadata": {},
   "outputs": [
    {
     "name": "stderr",
     "output_type": "stream",
     "text": [
      "/tmp/ipykernel_8016/3797080172.py:1: UserWarning: pandas only supports SQLAlchemy connectable (engine/connection) or database string URI or sqlite3 DBAPI2 connection. Other DBAPI2 objects are not tested. Please consider using SQLAlchemy.\n",
      "  df = pandas.read_sql(sql, connection)\n"
     ]
    },
    {
     "data": {
      "text/plain": [
       "<Axes: xlabel='c_number'>"
      ]
     },
     "execution_count": 14,
     "metadata": {},
     "output_type": "execute_result"
    },
    {
     "data": {
      "image/png": "[encoded data removed]",
      "text/plain": [
       "<Figure size 640x480 with 1 Axes>"
      ]
     },
     "metadata": {},
     "output_type": "display_data"
    }
   ],
   "source": [
    "df = pandas.read_sql(sql, connection)\n",
    "df.plot.bar(x = 'c_number',y = 'num_stu')"
   ]
  },
  {
   "cell_type": "markdown",
   "id": "f74742be",
   "metadata": {},
   "source": [
    "# q4"
   ]
  },
  {
   "cell_type": "code",
   "execution_count": 23,
   "id": "0a0f4074",
   "metadata": {},
   "outputs": [],
   "source": [
    "sql = \"\"\"select professor.p_name, count(course.c_number) as num_course from professor\n",
    "            inner join course on professor.p_email = course.p_email\n",
    "            group by professor.p_name\n",
    "            order by num_course desc\n",
    "            \"\"\""
   ]
  },
  {
   "cell_type": "code",
   "execution_count": 25,
   "id": "2326db32",
   "metadata": {
    "scrolled": true
   },
   "outputs": [
    {
     "name": "stderr",
     "output_type": "stream",
     "text": [
      "/tmp/ipykernel_8016/3482891309.py:1: UserWarning: pandas only supports SQLAlchemy connectable (engine/connection) or database string URI or sqlite3 DBAPI2 connection. Other DBAPI2 objects are not tested. Please consider using SQLAlchemy.\n",
      "  df = pandas.read_sql(sql, connection)\n"
     ]
    },
    {
     "data": {
      "text/plain": [
       "<Axes: xlabel='p_name'>"
      ]
     },
     "execution_count": 25,
     "metadata": {},
     "output_type": "execute_result"
    },
    {
     "data": {
      "image/png": "[encoded data removed]",
      "text/plain": [
       "<Figure size 640x480 with 1 Axes>"
      ]
     },
     "metadata": {},
     "output_type": "display_data"
    }
   ],
   "source": [
    "df = pandas.read_sql(sql, connection)\n",
    "df.plot.bar(x='p_name',y='num_course')"
   ]
  },
  {
   "cell_type": "markdown",
   "id": "ec26ff92",
   "metadata": {},
   "source": [
    "# q5"
   ]
  },
  {
   "cell_type": "code",
   "execution_count": 28,
   "id": "f4a87421",
   "metadata": {},
   "outputs": [],
   "source": [
    "sql = \"\"\"insert into professor (p_email,p_name,office)\n",
    "            values('p4@jmu.edu','p4','o4')\n",
    ";\n",
    "            select * from professor\n",
    "            \"\"\""
   ]
  },
  {
   "cell_type": "code",
   "execution_count": 30,
   "id": "9e263c10",
   "metadata": {},
   "outputs": [
    {
     "name": "stderr",
     "output_type": "stream",
     "text": [
      "/tmp/ipykernel_8016/2250568094.py:1: UserWarning: pandas only supports SQLAlchemy connectable (engine/connection) or database string URI or sqlite3 DBAPI2 connection. Other DBAPI2 objects are not tested. Please consider using SQLAlchemy.\n",
      "  df = pandas.read_sql(sql, connection)\n"
     ]
    },
    {
     "data": {
      "text/html": [
       "<div>\n",
       "<style scoped>\n",
       "    .dataframe tbody tr th:only-of-type {\n",
       "        vertical-align: middle;\n",
       "    }\n",
       "\n",
       "    .dataframe tbody tr th {\n",
       "        vertical-align: top;\n",
       "    }\n",
       "\n",
       "    .dataframe thead th {\n",
       "        text-align: right;\n",
       "    }\n",
       "</style>\n",
       "<table border=\"1\" class=\"dataframe\">\n",
       "  <thead>\n",
       "    <tr style=\"text-align: right;\">\n",
       "      <th></th>\n",
       "      <th>p_email</th>\n",
       "      <th>p_name</th>\n",
       "      <th>office</th>\n",
       "    </tr>\n",
       "  </thead>\n",
       "  <tbody>\n",
       "    <tr>\n",
       "      <th>0</th>\n",
       "      <td>p2@jmu.edu</td>\n",
       "      <td>p2</td>\n",
       "      <td>o2</td>\n",
       "    </tr>\n",
       "    <tr>\n",
       "      <th>1</th>\n",
       "      <td>p3@jmu.edu</td>\n",
       "      <td>p3</td>\n",
       "      <td>o3</td>\n",
       "    </tr>\n",
       "    <tr>\n",
       "      <th>2</th>\n",
       "      <td>p4@jmu.edu</td>\n",
       "      <td>p4</td>\n",
       "      <td>o4</td>\n",
       "    </tr>\n",
       "  </tbody>\n",
       "</table>\n",
       "</div>"
      ],
      "text/plain": [
       "      p_email p_name office\n",
       "0  p2@jmu.edu     p2     o2\n",
       "1  p3@jmu.edu     p3     o3\n",
       "2  p4@jmu.edu     p4     o4"
      ]
     },
     "execution_count": 30,
     "metadata": {},
     "output_type": "execute_result"
    }
   ],
   "source": [
    "df = pandas.read_sql(sql, connection)\n",
    "df[:]"
   ]
  },
  {
   "cell_type": "code",
   "execution_count": 31,
   "id": "0fd10a15",
   "metadata": {},
   "outputs": [],
   "source": [
    "sql = \"\"\"insert into course (c_number,c_name,room,p_email)\n",
    "            values('c5','linkedin','r2','p4@jmu.edu')\n",
    ";\n",
    "            select * from course\n",
    "            \"\"\""
   ]
  },
  {
   "cell_type": "code",
   "execution_count": 32,
   "id": "7336eed4",
   "metadata": {},
   "outputs": [
    {
     "name": "stderr",
     "output_type": "stream",
     "text": [
      "/tmp/ipykernel_8016/2250568094.py:1: UserWarning: pandas only supports SQLAlchemy connectable (engine/connection) or database string URI or sqlite3 DBAPI2 connection. Other DBAPI2 objects are not tested. Please consider using SQLAlchemy.\n",
      "  df = pandas.read_sql(sql, connection)\n"
     ]
    },
    {
     "data": {
      "text/html": [
       "<div>\n",
       "<style scoped>\n",
       "    .dataframe tbody tr th:only-of-type {\n",
       "        vertical-align: middle;\n",
       "    }\n",
       "\n",
       "    .dataframe tbody tr th {\n",
       "        vertical-align: top;\n",
       "    }\n",
       "\n",
       "    .dataframe thead th {\n",
       "        text-align: right;\n",
       "    }\n",
       "</style>\n",
       "<table border=\"1\" class=\"dataframe\">\n",
       "  <thead>\n",
       "    <tr style=\"text-align: right;\">\n",
       "      <th></th>\n",
       "      <th>c_number</th>\n",
       "      <th>c_name</th>\n",
       "      <th>room</th>\n",
       "      <th>p_email</th>\n",
       "    </tr>\n",
       "  </thead>\n",
       "  <tbody>\n",
       "    <tr>\n",
       "      <th>0</th>\n",
       "      <td>c2</td>\n",
       "      <td>mongodb</td>\n",
       "      <td>r2</td>\n",
       "      <td>p2@jmu.edu</td>\n",
       "    </tr>\n",
       "    <tr>\n",
       "      <th>1</th>\n",
       "      <td>c4</td>\n",
       "      <td>facebook</td>\n",
       "      <td>r1</td>\n",
       "      <td>p3@jmu.edu</td>\n",
       "    </tr>\n",
       "    <tr>\n",
       "      <th>2</th>\n",
       "      <td>c1</td>\n",
       "      <td>postgresql</td>\n",
       "      <td>r1</td>\n",
       "      <td>p3@jmu.edu</td>\n",
       "    </tr>\n",
       "    <tr>\n",
       "      <th>3</th>\n",
       "      <td>c3</td>\n",
       "      <td>twitter</td>\n",
       "      <td>r1</td>\n",
       "      <td>p3@jmu.edu</td>\n",
       "    </tr>\n",
       "    <tr>\n",
       "      <th>4</th>\n",
       "      <td>c5</td>\n",
       "      <td>linkedin</td>\n",
       "      <td>r2</td>\n",
       "      <td>p4@jmu.edu</td>\n",
       "    </tr>\n",
       "  </tbody>\n",
       "</table>\n",
       "</div>"
      ],
      "text/plain": [
       "  c_number      c_name room     p_email\n",
       "0       c2     mongodb   r2  p2@jmu.edu\n",
       "1       c4    facebook   r1  p3@jmu.edu\n",
       "2       c1  postgresql   r1  p3@jmu.edu\n",
       "3       c3     twitter   r1  p3@jmu.edu\n",
       "4       c5    linkedin   r2  p4@jmu.edu"
      ]
     },
     "execution_count": 32,
     "metadata": {},
     "output_type": "execute_result"
    }
   ],
   "source": [
    "df = pandas.read_sql(sql, connection)\n",
    "df[:]"
   ]
  },
  {
   "cell_type": "markdown",
   "id": "545e966e",
   "metadata": {},
   "source": [
    "# q6"
   ]
  },
  {
   "cell_type": "code",
   "execution_count": null,
   "id": "d1964b31",
   "metadata": {},
   "outputs": [],
   "source": []
  }
 ],
 "metadata": {
  "kernelspec": {
   "display_name": "conda_python3",
   "language": "python",
   "name": "conda_python3"
  },
  "language_info": {
   "codemirror_mode": {
    "name": "ipython",
    "version": 3
   },
   "file_extension": ".py",
   "mimetype": "text/x-python",
   "name": "python",
   "nbconvert_exporter": "python",
   "pygments_lexer": "ipython3",
   "version": "3.10.12"
  }
 },
 "nbformat": 4,
 "nbformat_minor": 5
}
